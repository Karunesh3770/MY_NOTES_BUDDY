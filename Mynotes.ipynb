{
 "cells": [
  {
   "cell_type": "code",
   "execution_count": 1,
   "id": "1a2541b7-c6d2-488e-95c5-1b6f0ba66e90",
   "metadata": {},
   "outputs": [],
   "source": []
  },
  {
   "cell_type": "code",
   "execution_count": 2,
   "id": "78c7daf7-38e0-4521-bda9-d6790c1b43ad",
   "metadata": {},
   "outputs": [],
   "source": [
    "#to check whether the file in virtual or not\n",
    "#import sys\n",
    "#print(sys.executable)"
   ]
  },
  {
   "cell_type": "code",
   "execution_count": 3,
   "id": "88e277d8-85af-4476-b3ad-2cc0d783311f",
   "metadata": {},
   "outputs": [],
   "source": [
    "import os \n",
    "os.environ[\"LANGSMITH_TRACING\"]=\"true\"\n",
    "os.environ[\"LANGSMITH_API_KEY\"]='ADD YOUR API'"
   ]
  },
  {
   "cell_type": "code",
   "execution_count": 4,
   "id": "a910d81a-8eac-4232-be53-17cf5751157a",
   "metadata": {},
   "outputs": [],
   "source": [
    "#!pip install langchain-groq#when machine in vitual env things need to reinstall\n"
   ]
  },
  {
   "cell_type": "code",
   "execution_count": 5,
   "id": "575a6e59-eef7-4dab-ba6b-cbe0a7648fd5",
   "metadata": {},
   "outputs": [],
   "source": [
    "#chat model\n",
    "from langchain_groq import ChatGroq\n",
    "\n",
    "# Set your API key in the environment\n",
    "import os\n",
    "os.environ[\"GROQ_API_KEY\"] = \"ADD YOUR API\"\n",
    "\n",
    "# Instantiate the model\n",
    "llm = ChatGroq(\n",
    "    model=\"llama3-8b-8192\",\n",
    "    temperature=0.7,\n",
    ")\n"
   ]
  },
  {
   "cell_type": "code",
   "execution_count": 6,
   "id": "bb1890ea-d20a-44c8-964e-a4e8fa300eed",
   "metadata": {},
   "outputs": [],
   "source": [
    "#!pip install langchain-huggingface\n"
   ]
  },
  {
   "cell_type": "code",
   "execution_count": 7,
   "id": "30189335-a21d-425a-b182-b5743b184836",
   "metadata": {},
   "outputs": [],
   "source": [
    "#!pip install sentence-transformers"
   ]
  },
  {
   "cell_type": "code",
   "execution_count": 8,
   "id": "d6647c1f-f11a-40d9-910b-f210ba33bc53",
   "metadata": {},
   "outputs": [],
   "source": [
    "#!pip install -U ipywidgets tqdm\n"
   ]
  },
  {
   "cell_type": "code",
   "execution_count": 9,
   "id": "f632d36e-68c5-4793-ba72-76bbfe183154",
   "metadata": {},
   "outputs": [
    {
     "name": "stdout",
     "output_type": "stream",
     "text": [
      "model_name='sentence-transformers/all-mpnet-base-v2' cache_folder=None model_kwargs={} encode_kwargs={} query_encode_kwargs={} multi_process=False show_progress=False\n"
     ]
    }
   ],
   "source": [
    "#embedding model\n",
    "from langchain_huggingface import HuggingFaceEmbeddings\n",
    "embeddings=HuggingFaceEmbeddings(model_name=\"sentence-transformers/all-mpnet-base-v2\")\n",
    "print(embeddings)"
   ]
  },
  {
   "cell_type": "code",
   "execution_count": 10,
   "id": "1707ac07-83f4-40a4-86bc-9104b505be72",
   "metadata": {},
   "outputs": [],
   "source": [
    "#pip install -qU langchain-community"
   ]
  },
  {
   "cell_type": "code",
   "execution_count": 11,
   "id": "ddbcacea-938a-4b75-9a1d-811447986cc9",
   "metadata": {},
   "outputs": [
    {
     "name": "stdout",
     "output_type": "stream",
     "text": [
      "Requirement already satisfied: faiss-cpu in c:\\users\\dell\\onedrive\\desktop\\my_notebuddy\\env\\lib\\site-packages (1.11.0)\n",
      "Requirement already satisfied: numpy<3.0,>=1.25.0 in c:\\users\\dell\\onedrive\\desktop\\my_notebuddy\\env\\lib\\site-packages (from faiss-cpu) (2.3.1)\n",
      "Requirement already satisfied: packaging in c:\\users\\dell\\onedrive\\desktop\\my_notebuddy\\env\\lib\\site-packages (from faiss-cpu) (24.2)\n"
     ]
    }
   ],
   "source": [
    "!pip install faiss-cpu"
   ]
  },
  {
   "cell_type": "code",
   "execution_count": 12,
   "id": "be1675c3-9b30-4f09-9125-a4e7abd28d12",
   "metadata": {},
   "outputs": [],
   "source": [
    "#VECTOR DATABASE :-FAIIS\n",
    "import faiss \n",
    "from langchain_community.docstore.in_memory import InMemoryDocstore\n",
    "from langchain_community.vectorstores import FAISS \n",
    "embedding_dim = len(embeddings.embed_query(\"hello world\"))\n",
    "index = faiss.IndexFlatL2(embedding_dim)\n",
    "\n",
    "vector_store = FAISS(\n",
    "    embedding_function=embeddings,\n",
    "    index=index,\n",
    "    docstore=InMemoryDocstore(),\n",
    "    index_to_docstore_id={},\n",
    ")\n"
   ]
  },
  {
   "cell_type": "code",
   "execution_count": 13,
   "id": "9c25029a-0b66-452b-b9c6-1d2e4c630f00",
   "metadata": {},
   "outputs": [],
   "source": [
    "!pip install -qU pdfminer.six"
   ]
  },
  {
   "cell_type": "code",
   "execution_count": 14,
   "id": "a7e8c733-6e92-4832-9552-5572325a73f5",
   "metadata": {},
   "outputs": [
    {
     "name": "stdout",
     "output_type": "stream",
     "text": [
      "<langchain_community.document_loaders.pdf.PDFMinerLoader object at 0x000001F0DA1DB590>\n"
     ]
    }
   ],
   "source": [
    "#load pdf \n",
    "from langchain_community.document_loaders import PDFMinerLoader\n",
    "file_path= \"C:/Users/Dell/OneDrive/Desktop/iMPORTANT/Quantum_Paper final.pdf\"\n",
    "loader= PDFMinerLoader(file_path)\n",
    "print(loader)"
   ]
  },
  {
   "cell_type": "code",
   "execution_count": 15,
   "id": "ae43083d-0a18-4d61-9dcd-fcb41cc81c4a",
   "metadata": {},
   "outputs": [
    {
     "data": {
      "text/plain": [
       "Document(metadata={'producer': 'pdfTeX-1.40.26', 'creator': 'TeX', 'creationdate': '2025-07-08T04:57:13+00:00', 'moddate': '2025-07-08T04:57:13+00:00', 'ptex.fullbanner': 'This is pdfTeX, Version 3.141592653-2.6-1.40.26 (TeX Live 2024) kpathsea version 6.4.0', 'trapped': 'False', 'total_pages': 12, 'source': 'C:/Users/Dell/OneDrive/Desktop/iMPORTANT/Quantum_Paper final.pdf'}, page_content='Quantum Decision Theory: Applications in\\nBehavioral and Management Economics\\n\\n1. Aryan Agarwal,2. Karunesh Kumar,3 Dr. Venugopal K\\n1,2 :Department of Industrial Engineering and Management 3: Department of Mathematics\\nR V College of Engineering\\nBengaluru, Karnataka , India\\n\\nAbstract—Quantum Decision Theory (QDT) offers a novel\\nframework for understanding decision-making, drawing parallels\\nfrom quantum mechanics to explain phenomena that classical de-\\ncision models struggle to address. Unlike traditional approaches,\\nwhich often rely on strict rationality and probabilistic reasoning,\\nQDT incorporates concepts such as superposition, entanglement,\\nand interference to model the inherent uncertainty, ambiguity,\\nand contextual dependencies observed in human choices. This\\nreview focuses on the burgeoning applications of QDT within\\nbehavioral and management economics. We explore how QDT\\nprovides a more nuanced explanation for paradoxes like the Allais\\nparadox and the Ellsberg paradox, which classical utility theory\\nfails to fully capture. Key insights include QDT’s ability to model\\npreference reversals, order effects, and the impact of cognitive\\nbiases through quantum-like interference effects. Furthermore,\\nit offers new perspectives on strategic interactions in game\\ntheory and organizational decision-making under ambiguity.\\nThe contributions of QDT lie in its capacity to offer a more\\ndescriptively accurate and predictive account of human behavior\\nin economic contexts, paving the way for enhanced theoretical\\nmodels and practical interventions in areas such as marketing,\\nfinance, and human resource management.\\n\\nIndex Terms—quantum decision theory, behavioral economics,\\n\\ndecision-making, quantum cognition, management economics\\n\\nI. INTRODUCTION\\n\\nDecision-making lies at the heart of economic theory, aim-\\ning to understand and predict how individuals and organiza-\\ntions make choices under various conditions. For decades, the\\ndominant paradigm in economics has been rooted in classical\\ndecision theory, primarily epitomized by Expected Utility\\nTheory (EUT). Developed by Von Neumann and Morgenstern\\n[23], EUT posits that rational agents choose among risky\\nalternatives by maximizing their expected utility, where prob-\\nabilities are objectively known or subjectively assigned. This\\nframework, with its elegant mathematical structure, provided\\na powerful\\ntool for analyzing a wide range of economic\\nphenomena, from consumer choice to financial markets.\\n\\nHowever, despite its theoretical elegance and widespread\\nadoption, EUT, along with subsequent refinements, began to\\nface increasing empirical challenges. Experimental evidence\\nconsistently demonstrated that human behavior often deviates\\nsystematically from the predictions of classical rationality.\\nThese anomalies, such as the Allais paradox [22] and the\\nEllsberg paradox [19], highlighted that individuals frequently\\nviolate the core axioms of EUT, exhibiting preferences that\\nare inconsistent with expected utility maximization.\\n\\nIn response to these limitations, the field of behavioral eco-\\nnomics emerged as a significant counter-paradigm. Pioneered\\nby scholars like Daniel Kahneman and Amos Tversky, behav-\\nioral economics integrates insights from psychology to offer\\nmore realistic models of human decision-making. Prospect\\nTheory [18], arguably the most influential contribution from\\nthis field, provided a compelling alternative to EUT. Prospect\\nTheory introduced concepts such as loss aversion, reference\\ndependence, and probability weighting, successfully explain-\\ning many of the observed behavioral anomalies.\\n\\nWhile Prospect Theory significantly enhanced our under-\\nstanding of how people make decisions under risk and uncer-\\ntainty, it is still a descriptive theory and, like EUT, can struggle\\nto account for certain dynamic and contextual effects, such as\\nthe order in which information is presented or the interference\\neffects observed in sequential decision tasks.\\n\\nDespite the advancements brought by behavioral economics\\nand the recognition of bounded rationality – the idea that\\nhuman decision-making is constrained by cognitive limitations\\n[21] – a persistent challenge remains: how to mathematically\\nmodel the inherent ambiguity, context-dependency, and dy-\\nnamic interactions that characterize real-world decision pro-\\ncesses. Traditional probabilistic frameworks, based on classical\\nlogic and set theory, often struggle to capture phenomena like\\nsuperposition of choices, entanglement of preferences, and\\ninterference effects between options, which are increasingly\\nobserved in behavioral experiments.\\n\\nThis paper is motivated by the growing recognition that the\\nmathematical formalism of quantum mechanics, originally de-\\nveloped to describe the behavior of particles at the subatomic\\nlevel, offers a surprisingly powerful and flexible framework for\\nmodeling human cognition and decision-making. Unlike clas-\\nsical probability theory, quantum theory naturally incorporates\\nconcepts such as contextuality, superposition (the ability to be\\nin multiple states simultaneously), and entanglement (inter-\\ndependencies between states), which resonate with observed\\npsychological phenomena. Quantum Decision Theory (QDT)\\nis not about claiming that the brain is a quantum computer\\nin a literal sense; rather, it proposes that the mathematical\\nprinciples of quantum theory provide a more appropriate and\\nparsimonious language for describing the non-classical aspects\\nof human judgment and choice.\\n\\x0cII. FOUNDATIONS OF QUANTUM DECISION THEORY\\n\\nQuantum Decision Theory (QDT) posits that the mathe-\\nmatical framework of quantum mechanics can offer a more\\nnuanced and accurate description of human decision-making\\nprocesses than classical probability theory. This is not\\nto\\nsuggest that the brain operates as a quantum computer in a\\nliteral physical sense, but rather that certain cognitive phenom-\\nena exhibit characteristics analogous to quantum mechanical\\nprinciples. Understanding these core principles is crucial for\\nappreciating how QDT models diverge from classical ap-\\nproaches.\\n\\nA. Superposition\\n\\nOne of the most fundamental concepts in QDT is su-\\nperposition. In quantum mechanics, a particle can exist in\\nmultiple states simultaneously until measured. Analogously,\\nin decision-making, a decision-maker facing a choice among\\nseveral options might be considered to be in a ”superposition\\nof potential choices” or ”undecided state” before making a\\nis not\\nfinal commitment. This implies that\\ncommitted to a single option until the act of making a decision\\n(or ”measurement”) forces them into a definite state. This con-\\ntrasts sharply with classical models where a decision-maker\\nis assumed to have pre-existing, well-defined preferences for\\neach option at all times.\\n\\nthe individual\\n\\nB. Interference\\n\\nClosely related to superposition is interference. In classical\\nphysics, waves can interfere constructively or destructively.\\nIn QDT, interference effects manifest as deviations from the\\n”total probability rule” of classical probability theory. The\\nlaw of total probability states that for two events A and B,\\nthe probability of A occurring is the sum of the probabil-\\nities of A occurring with B and A occurring without B,\\ni.e., P (A) = P (A|B)P (B) + P (A|Bc)P (Bc). However, in\\nquantum probability, an interference term emerges, leading to\\nthe quantum law of total probability [16]:\\n\\nP (A) = P (A|B)P (B) + P (A|Bc)P (Bc)\\n\\n+ 2(cid:112)P (A|B)P (B)P (A|Bc)P (Bc) cos(θ)\\n\\n(1)\\n\\nwhere θ is an interference angle that accounts for the\\ninfluence of unobservable factors or the cognitive state of the\\ndecision-maker. This interference term allows QDT to explain\\nviolations of classical probability, such as the conjunction\\nfallacy [17] or order effects in survey questions, where the\\nprobability of choosing an option can change depending on\\nthe context or the order in which options are presented.\\n\\nC. Contextuality\\n\\nContextuality is another cornerstone. In quantum mechanics,\\nthe outcome of a measurement on a quantum system can\\ndepend on the context of other measurements being performed.\\nSimilarly, in QDT, the preference for an option is not absolute\\nbut\\nin which the\\ndecision is made. This context can include the other available\\n\\nis profoundly influenced by the context\\n\\nalternatives, the framing of the problem, the emotional state of\\nthe decision-maker, or even the historical sequence of previ-\\nous decisions. This explains why preferences might appear\\ninconsistent across different decision scenarios, a common\\nobservation in behavioral economics that challenges the stable\\npreference assumptions of classical utility theory.\\n\\nD. Entanglement\\n\\nEntanglement describes a strong correlation between quan-\\ntum systems, where the state of one system instantaneously\\ninfluences the state of another, regardless of distance. In\\nQDT, entanglement can be used to model the interdependency\\nbetween different aspects of a decision, or between different\\ndecision-makers. For instance, preferences for one attribute\\nof a product might be entangled with preferences for another\\nattribute, meaning they cannot be considered independently.\\nSimilarly, in group decision-making, the choices of individuals\\nmight be entangled, reflecting shared social norms, group\\ndynamics, or emotional contagion.\\n\\nE. Mathematical Framework\\n\\nThe mathematical backbone of QDT relies on Hilbert space,\\na complex vector space. In this framework, states of a decision-\\nmaker’s beliefs or preferences are represented as state vectors\\n(or wave functions) in Hilbert space. Each potential outcome\\nor choice option corresponds to a specific basis vector in this\\nspace. The act of making a decision is conceptualized as a\\n”measurement” operation, which collapses the superimposed\\nstate vector onto one of the basis vectors, yielding a definite\\noutcome. Probabilities of choosing a particular option are then\\nderived from the Born rule: the probability of observing a\\nparticular outcome is the square of the magnitude of the\\nprojection of the state vector onto the corresponding basis\\nvector [16]. For a state |ψ⟩ and an outcome |x⟩, the probability\\nis given by [16]:\\n\\nP (x) = | ⟨x|ψ|x|ψ⟩ |2\\n\\n(2)\\n\\nThis formulation elegantly allows for the representation of\\nuncertainty and the dynamic evolution of beliefs. Operators\\nin Hilbert space represent decision strategies,\\ninformation\\nprocessing, or the influence of external factors.\\n\\nIII. APPLICATIONS IN BEHAVIORAL ECONOMICS\\n\\nQuantum Decision Theory (QDT) has found significant\\ntraction in behavioral economics as a powerful framework\\nto model and explain a variety of decision paradoxes and\\ncognitive biases that challenge classical utility and probability\\ntheories. By leveraging quantum principles like superposition,\\ninterference, and contextuality, QDT offers a more intuitive\\nand often more parsimonious explanation for these observed\\ndeviations from classical rationality.\\n\\x0cA. Modeling Paradoxes\\n\\n1) Allais Paradox: The Allais Paradox [22] demonstrates\\na common violation of the independence axiom of Expected\\nUtility Theory. It involves choices between lotteries that have\\nidentical components, where the preference for one lottery\\nover another changes depending on the presence or absence\\nof a common consequence.\\n\\nClassical EUT struggles because the independence axiom\\ndictates that preferences should remain consistent. QDT can\\nexplain this by introducing the concept of superposition of\\nprospects and interference effects. Before a choice is made,\\nthe decision-maker is in an undecided state where different\\nprospects (e.g., sure gain vs. risky gain) are in superposition.\\nThe introduction of a common consequence changes the\\n’measurement context,’ leading to an interference term in the\\nprobability calculation.\\n\\nThe probability of choosing an option A can be expressed\\n\\nas [16]:\\n\\nP (A) = | ⟨A|ψ|A|ψ⟩ |2\\n\\n(3)\\n\\nwhere |ψ⟩ is the initial ”mental state” vector of the decision-\\nmaker, and |A⟩ is the state corresponding to choosing A. The\\nspecific structure of the lotteries in the Allais paradox creates\\na context that influences the projection of |ψ⟩ onto the choice\\nstates, leading to the observed preference reversal.\\n\\n2) Ellsberg Paradox: The Ellsberg Paradox [19] highlights\\nambiguity aversion – people’s preference for known risks\\nover unknown risks, even when the expected value is the\\nsame. Classical probability theory assumes that subjective\\nprobabilities can always be assigned to uncertain events.\\nHowever, in Ellsberg’s experiments, individuals consistently\\nchoose urns with known proportions of colored balls over\\nurns with unknown proportions, even if the expected payout\\nis identical.\\n\\nQDT models ambiguity by representing the ambiguous\\nstate as a superposition of multiple possible probability dis-\\ntributions. The ”measurement” (choice) collapses this super-\\nposition. The discomfort or aversion to ambiguity can be\\nmodeled as a specific type of interference or a state that\\nis less ”commensurable” with the decision-maker’s current\\nknowledge state.\\n\\nIn some QDT models, an ambiguous alternative Au might\\nhave a lower ”effective utility factor” or ”quantum potential”\\nQ(Au) compared to a risky alternative Ar, even if their\\nclassical expected values are the same. The probability of\\nchoosing an ambiguous option could be suppressed due to\\nan additional ”ambiguity aversion potential” term Vambiguity:\\n\\nP (Au) ∝ exp(Q(Au) − Vambiguity)\\n\\n(4)\\n\\nThis leads to a lower probability of choosing the ambiguous\\n\\noption, effectively capturing ambiguity aversion.\\n\\n3) Conjunction and Disjunction Fallacies: The conjunction\\nfallacy [17] occurs when people estimate the probability of\\ntwo events occurring together (A and B) as higher than the\\nprobability of one of the events alone (A), i.e.,\\n\\nP (A ∩ B) > P (A), which violates classical probability\\n\\ntheory where P (A ∩ B) ≤ P (A).\\n\\nQDT provides an elegant explanation for these fallacies\\nthrough the quantum law of total probability and interference\\neffects. When considering two propositions, A and B, a\\ndecision-maker’s mental representation might involve a super-\\nposition of these concepts. The evaluation of ”A and B” is\\nnot simply a classical intersection but can involve interference\\nbetween the mental states representing A and B.\\n\\nThe quantum law of total probability includes an interfer-\\n\\nence term [16]:\\n\\nP (A) = P (A|B)P (B) + P (A|Bc)P (Bc)\\n\\n+ 2(cid:112)P (A|B)P (B)P (A|Bc)P (Bc) cos(θ)\\n\\n(5)\\n\\nWhen evaluating a conjunction P (A ∩ B), the quantum\\nthe process of thinking about A and\\nmodel suggests that\\nB together can induce an interference effect. The observed\\nviolation P (A ∩ B) > P (A) is explained by a constructive\\ninterference term that inflates the joint probability.\\n\\nB. Cognitive Dissonance and Preference Reversal\\n\\nQDT offers novel insights into phenomena like cognitive\\ndissonance [20] and preference reversal. Cognitive dissonance\\narises when an individual holds conflicting beliefs, attitudes,\\nor behaviors, leading to psychological discomfort. QDT can\\nmodel this discomfort as a non-orthogonal state representation\\nin Hilbert space, where the conflicting beliefs do not align per-\\nfectly. The ”mental state” |ψ⟩ is a superposition of conflicting\\ncomponents. The process of reducing dissonance can be seen\\nas a ”quantum measurement” that collapses the superposition\\nof conflicting states into a more coherent, definite state.\\n\\nPreference reversal refers to situations where an individual’s\\npreference ordering between two options changes depending\\non the method used to elicit that preference. QDT explains\\nthis through contextuality and the dynamic nature of the\\nstate vector. The act of choosing activates a different mental\\nrepresentation than the act of pricing. Each elicitation method\\nconstitutes a different ”question” asked of the decision-maker’s\\nquantum-like mental state, leading to different projections and\\nthus, apparent preference reversals.\\n\\nC. Empirical Evidence Supporting QDT\\n\\nA growing body of empirical research provides strong sup-\\nport for QDT’s ability to model and predict observed human\\nbehaviors. Aerts and Sozzo [15] have conducted experiments\\ndemonstrating the violation of the law of total probability in\\npsychological contexts, providing direct evidence for quan-\\ntum interference effects in decision-making. Busemeyer and\\nBruza [16] provide extensive empirical evidence for quantum\\nprobability models in various cognitive tasks, including cate-\\ngorization, memory, and decision-making under uncertainty.\\n\\nIV. APPLICATIONS IN MANAGEMENT ECONOMICS\\n\\nBeyond individual decision-making, Quantum Decision\\nTheory (QDT) is increasingly being explored for its potential\\nto provide novel insights and practical tools in various domains\\n\\x0cof management economics [1], [4]. The inherent complexities\\nof organizational settings, characterized by high uncertainty,\\ninterconnected choices, and the interplay of multiple decision-\\nmakers, resonate with the principles of quantum mechanics\\n[16].\\n\\nA. Organizational Decision-Making Under Uncertainty\\n\\nManagerial decisions often occur in highly uncertain envi-\\nronments, where information is incomplete, ambiguous, and\\nevolving [19]. Traditional rational choice models struggle\\nto capture how organizations navigate such ”radical uncer-\\ntainty” [21]. QDT, with its ability to model superposition\\nand contextuality, can represent the state of an organization\\nfacing multiple, mutually incompatible strategic options as a\\nsuperposition of potential futures [3], [7].\\n\\nFor example, a company might be simultaneously consid-\\nering ”expanding into a new market” and ”diversifying its\\nproduct line.” These are not necessarily mutually exclusive\\nin the classical sense, but rather represent a state of strategic\\nindecision, where the organization’s resources and focus are\\ndistributed across these possibilities. The ”measurement” or\\nfinal decision to commit to one strategy collapses this super-\\nposition [16]. The probability of adopting a particular strategy\\nSi can be represented as:\\n\\nP (Si) = | ⟨Si|Ψ|Si|Ψ⟩ |2\\n\\n(6)\\n\\nwhere |Ψ⟩ is the organization’s current strategic ”state vec-\\ntor” in a multi-dimensional Hilbert space, and |Si⟩ represents\\nthe chosen strategy [7], [16].\\n\\nB. Consumer Behavior and Market Choice Modeling\\n\\nQDT can model complex consumer choices where pref-\\nerences are not stable but constructed on the fly, influenced\\nby context, framing, and presentation order [12], [14]. For\\ninstance, in choosing between product A and product B, the\\nprobability of choice might exhibit interference effects if A\\nand B share common, but not identical, features [13].\\n\\nThe probability of a consumer choosing product Pj from\\na set of products, considering various attributes, could be\\nmodeled using a quantum-like attraction potential [11]:\\n\\nP (Pj) =\\n\\nexp(Q(Pj))\\nk=1 exp(Q(Pk))\\n\\n(cid:80)N\\n\\n(7)\\n\\nHere, the utility factor Q(Pj) for product Pj can incorporate\\nquantum interference terms that reflect how consumers’ per-\\nception of one attribute influences their perception of another\\n[13], [15].\\n\\nC. QDT-Based Simulations and Decision-Support Tools\\n\\nOne of the most promising applications of QDT in man-\\nagement is the development of QDT-based simulations and\\ndecision-support tools [1], [2]. By translating complex man-\\nagerial decision scenarios into a Hilbert space framework,\\nthese tools can [5]:\\n\\n• Predict non-classical behaviors\\n\\n• Optimize strategy under uncertainty\\n• Design better interventions\\nFor example, a simulation model could represent differ-\\nent market states as basis vectors in a Hilbert space. The\\ncompany’s strategic decision is represented as an operator\\nacting on this market state [16]. The evolution of a manager’s\\nbeliefs about market conditions could be modeled using a\\nSchr¨odinger-like equation [10]:\\n\\niℏ d\\ndt\\n\\n|ψ(t)⟩ = ˆH |ψ(t)⟩\\n\\n(8)\\n\\nwhere |ψ(t)⟩ represents the evolving belief state, and ˆH is\\na ”Hamiltonian” operator representing the internal cognitive\\nprocesses and external information flow [9], [10].\\n\\nV. CRITICAL EVALUATION AND LIMITATIONS\\n\\nWhile Quantum Decision Theory (QDT) offers a compelling\\nframework for addressing long-standing paradoxes in behav-\\nioral economics and providing novel insights into management\\ndecisions, it is not without its limitations [4], [7]. A balanced\\nreview necessitates a critical examination of its challenges.\\n\\nA. Theoretical and Computational Complexity\\n\\nOne of the primary limitations of QDT stems from its\\ninherent theoretical and computational complexity [16]. Clas-\\nsical decision theory often relies on relatively simple algebraic\\noperations and probability calculations [18], [23]. In contrast,\\nQDT operates within the framework of Hilbert spaces, involv-\\ning concepts like complex numbers, vector calculus, matrix\\nalgebra, and operator theory [7], [16].\\n\\nFor realistic decision scenarios involving numerous options\\nand evolving contexts, the dimensionality of the Hilbert space\\ncan become computationally intractable, limiting the practical\\napplicability of some QDT models to very specific, controlled\\nexperimental settings [2], [3].\\n\\nB. Empirical Challenges\\n\\nDespite its ability to explain observed anomalies [17], [22],\\nQDT faces significant empirical challenges, particularly con-\\ncerning data fitting and parameter estimation [13]. While QDT\\nmodels can often fit experimental data better than classical\\nmodels, they sometimes do so by introducing a larger number\\nof free parameters [7].\\n\\nThe challenge lies in ensuring that these parameters are\\nnot merely ”fitting parameters” but have meaningful psycho-\\nlogical interpretations that can be independently measured or\\npredicted [16]. Critics argue that without strong theoretical\\njustification or independent measurement for these parameters,\\nQDT models risk becoming ”curve-fitting” exercises rather\\nthan truly explanatory theories [7].\\n\\nC. Interpretability and Acceptance\\n\\nPerhaps the most significant hurdle for QDT’s mainstream\\nadoption is interpretability and acceptance among economists\\n[6]. The very analogy to quantum mechanics, while mathe-\\nmatically powerful, can be conceptually jarring for researchers\\n\\x0csteeped in classical rational choice theory [21], [23]. Concepts\\nlike ”superposition of preferences,” ”entanglement of choices,”\\nor ”collapse of the wave function” in a cognitive context\\ncan seem esoteric and less directly relatable to observable\\neconomic behaviors [4], [16].\\n\\nCurrently, QDT remains largely a niche area within behav-\\nioral economics and management, primarily explored by a ded-\\nicated group of interdisciplinary researchers [5]. While there’s\\ngrowing recognition of its explanatory power for specific\\nanomalies [13], [14], it has yet to challenge the dominance\\nof established behavioral theories like Prospect Theory [17],\\n[18].\\n\\nVI. FUTURE RESEARCH DIRECTIONS\\n\\nThe continued development and broader adoption of Quan-\\ntum Decision Theory (QDT) hinges on several promising\\nfuture research directions [3], [5]. These pathways aim to\\nenhance its empirical testability, bridge it with established\\nmethodologies, and expand its practical impact across various\\ndomains.\\n\\nA. Hybrid Models\\n\\nA significant frontier lies in developing hybrid models\\nthat integrate QDT with both traditional classical frameworks\\nand modern Machine Learning (ML) techniques [1], [2]. For\\ninstance, a classical utility function could be augmented with a\\nquantum interference term, allowing a baseline rational choice\\nto be adjusted for context-dependent cognitive biases [1], [16]:\\n\\nUhybrid(x, context) = Uclassical(x) + Vquantum(x, context)\\n(9)\\nwhere Vquantum might incorporate interference terms de-\\n\\npendent on the decision context or previous choices [16].\\n\\nB. Experimental Validation with Neurocognitive Data\\n\\nTo further solidify QDT’s empirical standing, future re-\\nsearch must focus on rigorous experimental validation using\\nneurocognitive data [8], [10]. Techniques such as fMRI, EEG,\\nMEG, and TMS can provide insights into how the brain\\nrepresents and processes information during decision-making,\\noffering potential direct evidence for QDT’s underlying mech-\\nanisms.\\n\\nResearchers could analyze neural signals for evidence of\\ninterference patterns that align with the cos(θ) term in quan-\\ntum probability [7]. Advanced neuroimaging techniques could\\npotentially measure the evolution of ”brain states” as vectors\\nin a neural activity space:\\n\\ninterventions, especially when information is ambiguous\\nor multiple conflicting considerations are at play [9].\\n• Finance: QDT’s ability to model ambiguity aversion,\\norder effects, and context-dependent preferences is highly\\nrelevant to behavioral finance and can provide new in-\\nsights into investor irrationality and market anomalies\\n[18], [19].\\n\\n• Digital Markets: Consumer choices on e-commerce plat-\\nforms often exhibit context dependency and non-linear\\nresponses that QDT can model effectively [11].\\n\\nVII. INTEGRATION WITH QUANTUM COGNITION\\n\\nThe conceptual underpinning of Quantum Decision Theory\\n(QDT) is deeply rooted in Quantum Cognition, an interdis-\\nciplinary field that applies the mathematical principles and\\nformalism of quantum mechanics to model cognitive phenom-\\nena [7], [16]. While QDT focuses specifically on decision-\\nmaking, Quantum Cognition provides the broader theoretical\\nframework for understanding the ”quantum-like” nature of\\nmental processes.\\n\\nQuantum Cognition posits that human cognition, particu-\\nlarly in ambiguous or uncertain situations, exhibits charac-\\nteristics that are inconsistent with classical probability theory\\nbut align well with quantum probability theory [12], [15]. In\\nquantum cognition, a person’s mental state is represented not\\nas a classical point in a state space but as a state vector in a\\nHilbert space. This state vector can be in a superposition of\\ndifferent, even conflicting, thoughts or beliefs simultaneously\\nbefore a ”measurement” forces it to collapse into a definite\\nstate [16].\\n\\nEvidence from psychology and neuroscience increasingly\\nsupports the quantum cognition framework [14], [17]. Psychol-\\nogists have conducted numerous experiments demonstrating\\nviolations of classical probability axioms that are accurately\\npredicted and quantitatively fitted by quantum models [7],\\n[13].\\n\\nVIII. EMERGING FRONTIERS AND INTERDISCIPLINARY\\nINTEGRATION\\n\\nQuantum Decision Theory is not confined to a single do-\\nmain; its principles and mathematical framework are increas-\\ningly being integrated with other fields, opening up exciting\\nnew frontiers for research and application [2], [4].\\n\\nA. Neuroeconomics and QDT\\n\\n|ψbrain(t1)⟩\\n\\ninf ormation update/decision\\n−−−−−−−−−−−−−−−−−−−→ |ψbrain(t2)⟩\\n\\n(10)\\n\\nC. Broader Applications\\n\\nThe explanatory power of QDT makes it a valuable candi-\\n\\ndate for broader application in real-world domains [4], [6]:\\n\\n• Public Policy: QDT can inform the design of more\\neffective policies by predicting how the public reacts to\\n\\nNeuroeconomics combines neuroscience, psychology, and\\neconomics to study the neural mechanisms underlying eco-\\nnomic decision-making [10]. QDT offers a natural bridge\\nbetween these disciplines by providing brain-inspired quantum\\nmodels of decision-making. The brain’s ability to maintain\\nmultiple hypotheses simultaneously before committing to a\\nsingle choice could be modeled using quantum superposition\\n[7], [16].\\n\\x0cB. Behavioral Game Theory\\n\\nQDT allows for the modeling of strategic interaction with\\ncontextually adaptive preferences [4]. A player’s ”strategic\\nstate” can be represented as a superposition of different\\nintentions (cooperative vs. competitive), and their actions\\ncan be seen as ”measurements” that collapse this state. The\\nprobability of a player choosing a particular strategy si in a\\ngame could be modeled as:\\n\\nP (si) = |\\n\\n(cid:68)\\nsi| ˆOsi|Ψ\\n\\n(cid:12)\\n(cid:69)\\n(cid:12)si| ˆOsi|Ψ\\n(cid:12)\\n\\n|2\\n\\n(11)\\n\\nwhere ˆOsi\\n\\nis a quantum-like operator and |Ψ⟩ is the\\n\\nentangled state of the players’ intentions [16].\\n\\nC. Quantum-Inspired Algorithms\\n\\nThe principles of QDT are inspiring the development of\\nquantum-inspired algorithms for optimization and AI [1], [2].\\nThese algorithms borrow concepts from quantum mechanics\\nto solve complex business decision-making problems, poten-\\ntially outperforming classical algorithms in areas like portfolio\\noptimization and supply chain management [6].\\n\\nIX. REAL-WORLD CASE STUDIES AND APPLICATIONS\\n\\nThe theoretical foundations of Quantum Decision Theory\\nfind compelling applications in real-world scenarios, partic-\\nularly in financial markets and corporate strategic decision-\\nmaking [2], [7]. This section presents detailed case studies\\nthat demonstrate how QDT principles can be operationalized\\nto address specific challenges faced by major institutions.\\n\\nA. Case Study 1: Major Investment Bank - Quantum Models\\nin Financial Trading\\n\\nA major investment bank, as one of the world’s largest\\nfinancial\\ninstitutions, faces complex decision-making chal-\\nlenges in high-frequency trading and risk management. The\\napplication of QDT principles to these scenarios illustrates the\\ntransition from theoretical concepts to actionable quantitative\\nframeworks [6].\\n\\n1) Modeling Trader Behavior under Volatility Perception\\nBias: Financial traders at the bank’s trading desks are exposed\\nto market volatility, where perceptions can be systematically\\nbiased by recent market history through adaptive normal-\\nization, known as the volatility after-effect [17], [18]. This\\nneurobiological phenomenon can lead to systematic errors in\\njudgment and potentially exploitable market inefficiencies.\\n\\nUsing QDT, we can model a trader’s decision to increase\\nor decrease exposure to a volatile asset [13]. Let A be the\\nevent ”increase exposure” and B be the event ”perceived high\\nvolatility.” Due to the volatility after-effect, a trader exposed to\\nprolonged high volatility might underestimate current volatil-\\nity, leading to a ”constructive interference” effect that inflates\\nthe probability of increasing exposure.\\n\\nThe quantum law of total probability can model this bias\\n\\n[7], [16]:\\n\\nP (A) = P (A|B)P (B) + P (A|Bc)P (Bc)\\n\\n+ 2(cid:112)P (A|B)P (B)P (A|Bc)P (Bc) cos(θ)\\n\\n(12)\\n\\nwhere P (A) is the probability of increasing exposure, P (B)\\nis the probability of perceiving high volatility, and the cos(θ)\\nterm captures the interference effect due to adaptive normal-\\nization bias [5]. When θ ≈ 0 (constructive interference), the\\nbias leads to higher-than-classical probability of increasing\\nexposure after prolonged high volatility.\\n\\nBy empirically quantifying the interference angle θ through\\nanalysis of trader behavior data or observed market VIX\\ndistortions, the bank can develop predictive tools to identify\\nwhen traders are more susceptible to biased decisions [1].\\nThis enables the design of targeted debiasing interventions and\\ndecision support tools that explicitly account for the quantum\\ninterference term.\\n\\n2) Strategic Interaction in High-Frequency Trading Market\\nMaking: The bank’s HFT desk operates in a highly competi-\\ntive environment where classical game theory models may not\\nfully capture the rapid, interdependent strategic adjustments\\nbetween market participants [23]. QGT provides a framework\\nfor modeling these complex interactions.\\n\\nConsider two HFT firms,\\n\\nthe bank (Player A) and a\\ncompetitor (Player B), deciding on market-making strategies.\\nTheir strategic state can be represented as a superposition of\\nintentions [3], [16]:\\n\\n|ψ⟩ = α |Aggressive⟩ + β |Passive⟩\\n\\n(13)\\n\\nThe initial market state, reflecting inherent correlation in\\nmarket-making decisions, could be an entangled state [14],\\n[15]:\\n\\n|ψin⟩ =\\n\\n1\\n√\\n2\\n\\n(|00⟩ + |11⟩)\\n\\n(14)\\n\\nPlayers apply quantum strategies UA and UB (unitary\\noperators, such as rotation operators) to adjust their quoting\\naggressiveness. The final state determines probabilities of\\ndifferent market outcomes [16]:\\n\\n|ψout⟩ = J †(UA ⊗ UB)J |00⟩\\n\\n(15)\\n\\nThe expected payoff for the bank is calculated using quan-\\n\\ntum expectation value [7], [16]:\\n\\nEA = Tr( ˆMA |ψout⟩ ⟨ψout|)\\n\\n(16)\\n\\nThis QGT framework allows the bank to identify quantum\\nNash equilibria that may be more efficient\\nthan classical\\nequilibria, potentially leading to better market-making profits\\nand reduced risk of price wars.\\n\\x0cB. Case Study 2: Large Corporation Strategic Product Launch\\n\\nLarge corporations operating in dynamic markets face im-\\nmense complexity during product launches, characterized by\\nunpredictable consumer responses and strategic dilemmas [4].\\nQDT offers a sophisticated approach to navigating these\\nchallenges.\\n\\n1) Consumer Preference Modeling and Market Prediction:\\nConsumer preferences for new products are rarely stable but\\nare dynamically constructed, influenced by context, framing,\\nand presentation order [14]. QDT models consumers as being\\nin a superposition of potential choices before making purchase\\ndecisions [11].\\n\\nThe probability of a consumer choosing product Pj can be\\n\\nmodeled using a quantum-like attraction potential [7]:\\n\\nP (Pj) =\\n\\nexp(Q(Pj))\\nk=1 exp(Q(Pk))\\n\\n(cid:80)N\\n\\n(17)\\n\\nwhere the utility factor Q(Pj) incorporates quantum in-\\nterference terms reflecting how perception of one product\\nattribute non-linearly influences perception of another [12].\\n\\nQDT’s modeling of ambiguity aversion is particularly rele-\\nvant for product launch risks [19]. The probability of choosing\\nan ambiguous new product can be suppressed by an ”ambigu-\\nity aversion potential”:\\n\\nP (Pnew) ∝ exp(Q(Pnew) − Vambiguity)\\n\\n(18)\\n\\nThis allows companies to quantify the ”uncertainty tax” that\\nambiguity imposes on consumer choice and guide communi-\\ncation strategies to reduce perceived ambiguity [13].\\n\\n2) Organizational Decision-Making Under Market Uncer-\\ntainty: Large corporations frequently explore multiple strate-\\ngic options concurrently before committing to one [21]. QDT\\nmodels this as a superposition of potential futures, where\\nthe organization’s strategic state facing multiple options (e.g.,\\naggressive market penetration vs. cautious phased rollout) can\\nbe represented as [3]:\\n\\n|Ψstrategy⟩ = α |S1⟩ + β |S2⟩ + γ |S3⟩\\n\\n(19)\\n\\nThe final decision to commit to a specific strategy is con-\\nceptualized as a measurement that collapses this superposition\\n[16]. The probability of adopting strategy Si is:\\n\\n3) Quantum Marketing and Consumer Behavior Analy-\\nsis: QDT principles can inform marketing strategy design\\nby providing insights into how different messages or pro-\\nmotional elements interact through interference effects [8].\\nThis optimization of advertisement sequencing and framing\\ncan maximize constructive interference in consumer minds\\nwhile minimizing destructive interference that could dilute\\nmessaging [9].\\n\\nX. QUANTUM GAME THEORY: EXTENSIONS AND\\nSTRATEGIC APPLICATIONS\\n\\nWhile Quantum Decision Theory primarily addresses in-\\ndividual choice behavior, its principles naturally extend to\\nstrategic interactions through Quantum Game Theory (QGT).\\nThis section explores how quantum mechanical principles\\nrevolutionize our understanding of strategic decision-making,\\noffering new perspectives on Nash equilibria, strategic dom-\\ninance, and Pareto efficiency that are unattainable within\\nclassical frameworks.\\n\\nA. Classical Game Theory Foundations\\n\\nClassical game theory models interactions between rational\\nagents, where each player chooses a strategy to maximize\\ntheir payoff given the strategies of others [23]. For a game\\nwith N players, where player i has a set of pure strate-\\ngies Si = {si1, si2, . . . , simi}, a strategy profile is a tuple\\ns = (s1, s2, . . . , sN ), where si ∈ Si. The payoff function for\\nplayer i is denoted by ui(s), which maps each strategy profile\\nto a real number representing the player’s utility.\\n\\nA mixed strategy σi for player i is a probability distribution\\nover their pure strategies, where σi = (pi1, pi2, . . . , pimi) with\\npij ≥ 0 and (cid:80)mi\\nj=1 pij = 1. The expected payoff for player i\\ngiven a mixed strategy profile σ = (σ1, . . . , σN ) is [23]:\\n\\nEi(σ) =\\n\\n(cid:88)\\n\\n\\uf8eb\\n\\n\\uf8ed\\n\\nN\\n(cid:89)\\n\\ns∈S\\n\\nj=1\\n\\n\\uf8f6\\n\\nσj(sj)\\n\\n\\uf8f8 ui(s)1001[23]\\n\\n(22)\\n\\nwhere S = S1 × S2 × . . . × SN is the set of all pure strategy\\n\\nprofiles.\\n\\nA strategy profile σ∗ = (σ∗\\n\\nN ) constitutes a Nash\\nEquilibrium if for every player i and every strategy σi for\\nplayer i [23]:\\n\\n1, . . . , σ∗\\n\\nEi(σ∗\\n\\ni , σ∗\\n\\n−i) ≥ Ei(σi, σ∗\\n\\n−i)\\n\\n(23)\\n\\nP (Si) = | ⟨Si|Ψstrategy|Si|Ψstrategy⟩ |2\\n\\n(20)\\n\\nwhere σ∗\\n\\n−i denotes the strategies of all players other than i.\\n\\nThe evolution of market beliefs and strategic understanding\\n\\ncan be modeled using a Schr¨odinger-like equation [10]:\\n\\niℏ d\\ndt\\n\\n|ψmarket(t)⟩ = ˆHmarket |ψmarket(t)⟩\\n\\n(21)\\n\\nwhere ˆHmarket represents market dynamics and information\\n\\nflow, enabling real-time strategic adaptation.\\n\\nB. Quantum Game Theory Framework\\n\\nQuantum Game Theory extends classical game theory by\\nallowing players to employ quantum strategies, operate on\\nentangled states, and experience quantum superposed payoffs\\n[7]. This framework leverages quantum mechanical principles\\nto model strategic interactions that exhibit non-classical cor-\\nrelations and interference effects.\\n\\x0cTABLE I\\nQDT’S IMPACT ON PRODUCT LAUNCH STRATEGY\\n\\nQDT Principle\\nSuperposition\\n\\nClassical Limitation\\nAssumes stable preferences\\n\\nInterference\\n\\nLinear message impact\\n\\nContextuality\\n\\nEntanglement\\nAmbiguity Aver-\\nsion\\n\\nStable preferences across con-\\ntexts\\nIndependent attributes\\nSubjective\\nassumed\\n\\nprobabilities\\n\\nindecision\\n\\nQDT Application\\nModels consumer\\nstates\\nNon-linear marketing interac-\\ntions\\nContext-dependent choice\\n\\nStrategic Benefit\\nAccurate understanding of choice\\nprocess\\nEffective campaign design\\n\\nTailored positioning strategies\\n\\nInterdependent perceptions\\nExplicit ambiguity modeling\\n\\nHolistic product design\\nQuantified uncertainty tax\\n\\n1) Quantum Strategies and Operations: Instead of classical\\nprobability distributions, quantum strategies are represented by\\nunitary operators acting on an initial quantum state [16]. For\\nplayer i, a quantum strategy Ui is a unitary operator chosen\\nfrom a set of available quantum operations:\\n\\nUi ∈ {Ui,1, Ui,2, . . . , Ui,ki}\\n\\n(24)\\n\\nThese unitary operators preserve the norm of quantum states\\nand represent reversible transformations, allowing for quantum\\nsuperposition and interference effects that are impossible in\\nclassical strategic interactions [7].\\n\\n2) Entangled Initial States: Quantum games typically begin\\nwith an initial entangled quantum state |ψin⟩ shared between\\nplayers [16]. This entanglement enables correlations that tran-\\nscend classical strategic interdependence. For a two-player\\ngame involving Alice (A) and Bob (B), a common initial state\\nis:\\n\\nwhere Ei represents the expected quantum payoff. This\\ndefinition parallels classical Nash equilibrium but operates\\nwithin the quantum mechanical framework.\\n\\nC. Quantum Prisoner’s Dilemma: A Paradigmatic Example\\n\\nThe Quantum Prisoner’s Dilemma exemplifies how quantum\\nmechanics can fundamentally alter strategic outcomes [7]. In\\nthe classical version, mutual defection represents the unique\\nNash equilibrium, leading to a suboptimal outcome for both\\nplayers. The quantum version introduces new strategic possi-\\nbilities through quantum superposition and entanglement.\\n\\nEach player can choose from an expanded strategy set\\nthat\\nincludes quantum operations. The classical strategies\\n”Cooperate” (C) and ”Defect” (D) correspond to quantum\\noperators [16]:\\n\\nI =\\n\\n(cid:18)1\\n0\\n\\n(cid:19)\\n\\n0\\n1\\n\\n, X =\\n\\n(cid:18)0\\n1\\n\\n(cid:19)\\n1\\n0\\n\\n(29)\\n\\n|ψin⟩ =\\n\\n1\\n√\\n2\\n\\n(|00⟩ + |11⟩)\\n\\n(25)\\n\\nHowever, quantum strategies can also include rotation op-\\n\\nerators:\\n\\nwhere |0⟩ and |1⟩ represent basis states for each player’s\\n\\nqubit, creating a maximally entangled Bell state.\\n\\n3) Quantum Payoff Calculation: After players apply their\\nquantum strategies (unitary operations) to their respective\\nqubits, the final state |ψout⟩ is obtained. The expected payoff\\nfor player i is calculated using the quantum expectation value\\n[7]:\\n\\nEi = Tr( ˆMi |ψout⟩ ⟨ψout|)\\n(26)\\nwhere ˆMi is the measurement operator corresponding to\\nplayer i’s payoff structure. For a two-player, two-qubit system\\nwith measurement probabilities P00, P01, P10, P11 for out-\\ncomes |00⟩, |01⟩, |10⟩, |11⟩ respectively, the payoff becomes:\\n\\nEi = P00ui(00) + P01ui(01) + P10ui(10) + P11ui(11) (27)\\n\\nwhere ui(s) are the classical payoffs for outcome s.\\n4) Quantum Nash Equilibrium: A set of quantum strate-\\ngies {U ∗\\nN } constitutes a Quantum Nash Equilibrium\\n(QNE) if for every player i and every alternative quantum\\nstrategy U ′\\n\\n1 , . . . , U ∗\\n\\ni [7]:\\n\\nEi(U ∗\\n\\ni , U ∗\\n\\n−i) ≥ Ei(U ′\\n\\ni , U ∗\\n\\n−i)\\n\\n(28)\\n\\nR(θ) =\\n\\n(cid:18) cos(θ/2)\\n−i sin(θ/2)\\n\\n(cid:19)\\n\\n−i sin(θ/2)\\ncos(θ/2)\\n\\n(30)\\n\\nThe quantum game protocol involves an entangling operator\\nJ and a disentangling operator J †. Starting with the initial\\nstate |ψ0⟩ = J |00⟩, players apply their operations UA ⊗ UB,\\nand the final state becomes |ψf ⟩ = J †(UA ⊗ UB)J |00⟩ [7].\\nRemarkably, the quantum version can achieve Pareto opti-\\nmal outcomes that are Nash equilibria, resolving the classical\\ndilemma through quantum correlations and strategic possibil-\\nities unavailable in classical games.\\n\\nD. Strategic Dominance in Quantum Frameworks\\n\\nThe concept of strategic dominance extends naturally to\\nquantum settings [7]. A quantum strategy U ′\\ni is strictly domi-\\nnated by quantum strategy Ui if the expected quantum payoff\\nfor Ui\\nfor all possible\\nquantum strategies of other players:\\n\\nis always greater than that of U ′\\ni\\n\\nEi(Ui, U−i) > Ei(U ′\\n\\ni , U−i) ∀U−i\\n\\n(31)\\n\\nWeak dominance follows similarly, with the inequality being\\nnon-strict but requiring at\\ninequality. The\\nquantum framework can eliminate certain classical strategic\\n\\nleast one strict\\n\\x0cdominance relationships while introducing new ones based on\\nquantum interference effects and entanglement correlations.\\n\\nfor understanding and designing strategic interactions in an\\nincreasingly complex and interconnected world [2], [7].\\n\\nE. Pareto Efficiency in Quantum Strategic Interactions\\n\\n1 , . . . , U ∗\\n\\nA quantum strategy profile (U ∗\\n\\nN ) is Pareto efficient\\nif there exists no other quantum strategy profile (U ′\\nN )\\nsuch that at least one player’s expected quantum payoff is\\nstrictly better, and no player’s expected quantum payoff is\\nworse [23]:\\n\\n1, . . . , U ′\\n\\n∄(U ′\\n\\n1, . . . , U ′\\n\\nN ) : Ei(U ′\\n\\n1, . . . , U ′\\n\\nN ) ≥ Ei(U ∗\\n\\n1 , . . . , U ∗\\n\\nN ) ∀i\\n\\n(32)\\n\\nwith strict inequality for at least one player j.\\nThe quantum framework can expand the set of Pareto\\nefficient outcomes compared to classical games, potentially\\nresolving efficiency-equilibrium conflicts through quantum\\ncorrelations that enable coordination without explicit commu-\\nnication [7].\\n\\nF. Applications and Implications\\n\\nQuantum Game Theory has profound implications for var-\\n\\nious domains:\\n\\n• Mechanism Design: Quantum mechanisms can imple-\\nment outcomes impossible under classical constraints,\\npotentially improving auction efficiency and reducing\\nstrategic manipulation [1].\\n\\n• Evolutionary Game Theory: Quantum strategies can\\nprovide evolutionary advantages in environments where\\nclassical strategies fail to achieve optimal outcomes [4].\\n• Network Economics: Quantum entanglement can model\\nstrong interdependencies in economic networks, explain-\\ning phenomena like financial contagion and systemic risk\\n[6].\\n\\n• Behavioral Strategy: The quantum framework naturally\\nincorporates bounded rationality and context-dependent\\npreferences observed in real strategic interactions [2],\\n[21].\\n\\nG. Challenges and Future Directions\\n\\nDespite its theoretical elegance, Quantum Game Theory\\nfaces several challenges. The experimental verification of\\nquantum strategic effects in human behavior remains lim-\\nited, and the computational complexity of analyzing quantum\\ngames with many players grows exponentially [3]. Future\\nresearch should focus on:\\n\\n1) Developing tractable approximation methods for large-\\n\\nscale quantum games\\n\\n2) Empirical validation of quantum strategic effects in\\n\\nlaboratory and field settings [13]\\n\\n3) Integration with behavioral game theory to model\\n\\nbounded rationality and learning [21]\\n\\n4) Applications to specific economic domains such as auc-\\n\\ntion design and market competition [1]\\n\\nThe integration of quantum principles into strategic analysis\\nrepresents a fundamental paradigm shift, offering new tools\\n\\nXI. DISCUSSION\\nThe integration of Quantum Decision Theory into economic\\nanalysis represents a paradigmatic shift from classical rational\\nchoice models to frameworks that better capture the com-\\nplexity of human decision-making [7], [16]. This discussion\\nsynthesizes the theoretical foundations, empirical applications,\\nand practical implications presented throughout this review.\\n\\nA. Theoretical Contributions and Paradigm Shift\\n\\nQDT’s most significant theoretical contribution lies in its\\nmathematical formalism that naturally accommodates phe-\\nnomena classical models struggle to explain [3], [10]. The\\nquantum law of total probability, with its interference term,\\nprovides a principled way to model violations of classical\\nprobability theory [16]:\\n\\nP (A) = P (A|B)P (B) + P (A|Bc)P (Bc)\\n\\n+ 2(cid:112)P (A|B)P (B)P (A|Bc)P (Bc) cos(θ)\\nThis formulation elegantly captures context effects, order\\ndependencies, and cognitive biases that have long puzzled\\neconomists [14], [17]. The interference angle θ becomes a\\nmeasurable parameter representing the degree of non-classical\\nbehavior, providing a quantitative handle on phenomena pre-\\nviously relegated to qualitative descriptions [13].\\n\\n(33)\\n\\nThe concept of superposition in decision-making offers a\\nmore realistic representation of the choice process [11]. Rather\\nthan assuming decision-makers have well-defined preferences\\nat all times, QDT recognizes that individuals often exist in\\nstates of genuine indecision, with preferences emerging only\\nthrough the act of choice itself [5]. This perspective aligns\\nwith empirical observations from behavioral economics [18],\\n[21] while providing a rigorous mathematical framework.\\n\\nB. Empirical Validation and Predictive Power\\n\\nThe case studies presented demonstrate QDT’s transition\\nfrom theoretical construct to practical tool. In the JPMorgan\\ntrading scenarios, QDT provides quantitative frameworks for\\nunderstanding trader bias and strategic interactions that classi-\\ncal models cannot adequately capture [6]. The ability to model\\nand predict non-classical correlations in high-frequency trad-\\ning environments represents a significant advance in financial\\nrisk management.\\n\\nThe large corporation product launch case illustrates QDT’s\\napplicability to complex organizational decision-making. By\\nmodeling consumer preference construction and strategic un-\\ncertainty as quantum processes, companies can develop more\\nnuanced understanding of market dynamics and optimize their\\nstrategic responses accordingly [4].\\n\\nThese applications highlight QDT’s predictive advantages\\nover classical approaches [2], [13]. The quantum interference\\nterms allow for more accurate modeling of observed behaviors,\\nwhile the superposition framework provides insights into the\\ntemporal dynamics of decision-making processes.\\n\\x0cC. Computational and Implementation Challenges\\n\\nDespite its theoretical elegance, QDT faces significant com-\\nputational challenges [1]. The exponential growth of Hilbert\\nspace dimensionality with system size limits the practical\\napplication of pure quantum models to complex real-world\\nscenarios. Current implementations often require approxima-\\ntions or hybrid approaches that combine quantum and classical\\nelements.\\n\\nThe parameter estimation problem remains a central chal-\\nlenge [8]. While QDT models often provide better fits to\\nempirical data, the increased parameter space raises concerns\\nabout overfitting and interpretability. Future research must fo-\\ncus on developing principled methods for parameter estimation\\nand model selection that ensure genuine explanatory power\\nrather than mere curve-fitting.\\n\\nD. Integration with Existing Frameworks\\n\\nQDT’s future success depends on its integration with es-\\ntablished economic frameworks rather than replacement of\\nthem [6]. Hybrid models that incorporate quantum interference\\nterms into classical utility functions offer a promising path\\nforward:\\n\\nUhybrid(x, context) = Uclassical(x) + Vquantum(x, context)\\n(34)\\nThis approach preserves the intuitive appeal of classical\\nmodels while capturing non-classical effects where they matter\\nmost [7]. The development of such hybrid frameworks requires\\ncareful consideration of when and where quantum effects\\ndominate classical ones.\\n\\nE. Implications for Policy and Practice\\n\\nThe policy implications of QDT extend beyond academic\\ninterest [9]. Understanding quantum-like cognitive biases can\\ninform more effective policy design, particularly in areas\\nwhere public responses to interventions exhibit non-classical\\npatterns. The ability to model and predict context effects\\nand order dependencies provides policymakers with tools to\\noptimize communication strategies and intervention timing\\n[14].\\n\\nIn business applications, QDT offers new approaches to\\nconsumer behavior analysis, strategic planning, and risk man-\\nagement [4]. The quantum marketing concepts demonstrated\\nin the case studies suggest possibilities for more sophisticated\\nand effective marketing campaigns that account for the non-\\nadditive nature of consumer perception [15].\\n\\nF. Future Research Directions\\n\\nSeveral critical research directions emerge from this analy-\\n\\nsis:\\n\\nNeurocognitive Validation: Direct measurement of neural\\ncorrelates of quantum-like decision processes could provide\\ncompelling evidence for QDT’s psychological reality [10]. Ad-\\nvanced neuroimaging techniques may reveal interference pat-\\nterns or superposition states in brain activity during decision-\\nmaking.\\n\\nScalability Solutions: Developing tractable approximation\\nmethods for large-scale quantum decision models is essen-\\ntial for practical applications [1]. Quantum-inspired classical\\nalgorithms may provide computational advantages while pre-\\nserving key insights from the quantum framework.\\n\\nDynamic Modeling: Extending QDT to model the temporal\\nevolution of decision processes represents a frontier with sig-\\nnificant practical implications [8]. Real-time adaptive models\\nbased on quantum evolution equations could revolutionize\\ndecision support systems.\\n\\nCross-Cultural Validation: Testing QDT predictions across\\ndifferent cultural contexts would illuminate the universality of\\nquantum-like cognitive processes and inform the development\\nof culturally adaptive models [12].\\n\\nG. Limitations and Criticisms\\n\\nA balanced assessment must acknowledge QDT’s limita-\\ntions [7]. The analogy to quantum mechanics, while mathemat-\\nically powerful, may not reflect the actual physical processes\\nunderlying human cognition. Critics argue that the quantum\\nformalism may be unnecessarily complex for capturing psy-\\nchological phenomena that could be explained by simpler\\nmodels.\\n\\nThe interpretability challenge remains significant [3]. While\\nQDT can predict non-classical behaviors, the psychological\\nmeaning of quantum parameters is often unclear. Future work\\nmust focus on developing interpretable quantum models that\\nprovide genuine insight into cognitive processes rather than\\nmere mathematical convenience.\\n\\nH. Synthesis and Outlook\\n\\nQuantum Decision Theory represents a significant advance\\nin our understanding of human decision-making, offering both\\ntheoretical insights and practical tools for complex economic\\nproblems [7], [16]. The case studies demonstrate its potential\\nfor real-world applications, while the mathematical framework\\nprovides a principled approach to modeling non-classical\\nphenomena.\\n\\nThe field stands at a critical\\n\\njuncture where theoretical\\ndevelopment must be balanced with empirical validation and\\npractical implementation [2]. Success in this endeavor will\\nrequire continued interdisciplinary collaboration, methodolog-\\nical innovation, and careful attention to the balance between\\nmathematical sophistication and psychological realism.\\n\\nAs QDT continues to evolve, its impact on economics,\\nmanagement science, and related fields will depend on its\\nability to provide not just better fits to existing data, but\\ngenuine insights into the nature of human choice that can\\ninform better policies, strategies, and interventions [4]. The\\nquantum revolution in decision theory is underway, but its\\nultimate success will be measured by its contribution to human\\nwelfare and understanding.\\n\\nXII. CONCLUSION\\n\\nThis comprehensive review has explored Quantum Decision\\nTheory as a transformative framework for understanding hu-\\n\\x0cman decision-making in economic contexts [16]. Through de-\\ntailed theoretical exposition, empirical applications, and real-\\nworld case studies, we have demonstrated QDT’s potential to\\naddress fundamental limitations of classical economic models\\nwhile providing novel insights into complex decision-making\\nphenomena.\\n\\nThe theoretical foundations of QDT offer a mathematically\\nrigorous approach to modeling non-classical aspects of hu-\\nman choice [3]. The quantum law of total probability, with\\nits interference term, provides a principled framework for\\nunderstanding violations of classical probability theory that\\nhave long puzzled economists [19], [22]. The concepts of\\nsuperposition, entanglement, and contextuality offer new ways\\nto represent and analyze the inherent uncertainty, interdepen-\\ndence, and context-sensitivity observed in real-world decision-\\nmaking [12], [15].\\n\\nOur analysis of applications in behavioral economics\\ndemonstrates QDT’s ability to explain persistent paradoxes\\nsuch as the Allais and Ellsberg paradoxes, conjunction falla-\\ncies, and preference reversals [13], [17]. The quantum frame-\\nwork provides not just post-hoc explanations but predictive\\nmodels that can anticipate when and why classical rationality\\nassumptions will fail.\\n\\nThe extension to management economics reveals QDT’s\\npotential for practical applications in organizational decision-\\nmaking, consumer behavior analysis, and strategic planning\\n[4]. The case studies involving JPMorgan Chase and large\\ncorporation product launches illustrate how quantum principles\\ncan be operationalized to address specific business challenges,\\nfrom modeling trader bias to optimizing strategic responses to\\nmarket uncertainty.\\n\\nThe integration of Quantum Game Theory expands the\\nframework’s applicability to strategic interactions, offering\\nnew perspectives on Nash equilibria, strategic dominance,\\nand Pareto efficiency [23]. The quantum prisoner’s dilemma\\nand other strategic scenarios demonstrate how quantum cor-\\nrelations can achieve outcomes impossible under classical\\nconstraints.\\n\\nHowever, significant challenges remain. The computational\\ncomplexity of quantum models, the interpretability of quantum\\nparameters, and the need for extensive empirical validation\\nrepresent important hurdles to broader adoption [1]. The field\\nmust balance mathematical sophistication with psychologi-\\ncal realism, ensuring that quantum models provide genuine\\ninsights rather than merely fitting data through increased\\nparameter flexibility.\\n\\nThe future of QDT depends on several critical develop-\\nments. Hybrid models that integrate quantum and classical\\nelements offer a promising path for practical implementation\\n[6]. Neurocognitive validation using advanced neuroimaging\\ntechniques could provide compelling evidence for the psy-\\nchological reality of quantum-like decision processes [10].\\nThe development of scalable approximation methods and\\nquantum-inspired algorithms will be essential for real-world\\napplications [8].\\n\\nPerhaps most importantly, QDT’s success will be measured\\n\\nby its contribution to human welfare through better policies,\\nstrategies, and interventions [9]. The quantum interference\\neffects demonstrated in our case studies suggest possibilities\\nfor more effective policy design that accounts for non-classical\\npublic responses [14]. The marketing and consumer behavior\\napplications point toward more sophisticated approaches to\\nunderstanding and influencing consumer choice [15].\\n\\nAs we move forward, the interdisciplinary nature of QDT\\nresearch will be crucial [5]. Continued collaboration between\\neconomists, psychologists, neuroscientists, and physicists will\\ndrive the theoretical development and empirical validation\\nnecessary for the field’s maturation. The integration with\\nmachine learning and artificial intelligence offers additional\\nopportunities for developing practical decision support tools\\nbased on quantum principles [2].\\n\\nThe quantum revolution in decision theory is not merely an\\nacademic exercise but a fundamental reimagining of how we\\nunderstand and model human choice [16]. By embracing the\\nmathematical elegance of quantum mechanics while remaining\\ngrounded in empirical observation and practical application,\\nQDT offers a path toward more accurate, insightful, and useful\\nmodels of economic decision-making.\\n\\nThe journey from classical\\n\\nto quantum decision theory\\nreflects a broader evolution in our understanding of human\\ncognition and behavior [20], [21]. As we continue to uncover\\nthe non-classical aspects of human choice, QDT provides\\nthe mathematical tools and conceptual frameworks necessary\\nto advance both theoretical understanding and practical ap-\\nplications. The future of economics may well be quantum,\\noffering new possibilities for understanding and improving\\nhuman decision-making in an increasingly complex world.\\n\\nIn closing, Quantum Decision Theory represents not an end\\nbut a beginning – a foundation upon which future research\\ncan build to create more accurate, comprehensive, and useful\\nmodels of human choice [7]. The potential for improving\\neconomic theory, business practice, and public policy through\\nquantum insights is immense, making this an exciting fron-\\ntier for scholars and practitioners alike. As we stand at the\\nthreshold of this quantum revolution in decision theory, the\\npossibilities for advancing human understanding and welfare\\nthrough better models of choice are truly limitless.\\n\\nREFERENCES\\n\\n[1] L. Chen and Y. Zhang, “A quantum probability approach to improving\\nhuman-AI decision-making,” IEEE Transactions on Artificial Intelli-\\ngence, vol. 5, no. 3, pp. 1234-1248, 2024.\\n\\n[2] J. S. Trueblood, E. M. Pothos, and J. R. Busemeyer, “Quantum proba-\\nbility theory as a framework for reasoning under uncertainty in artificial\\nintelligence,” Artificial Intelligence Review, vol. 57, no. 4, pp. 1-28,\\n2024.\\n\\n[3] I. S. Helland, “A new foundation of quantum decision theory,” arXiv\\n\\npreprint arXiv:2310.12762, 2023.\\n\\n[4] J. Martinez-Martinez, “Social science goes quantum: explaining human\\ndecision-making, cognitive biases and Darwinian selection from a quan-\\ntum perspective,” Journal of Bioeconomics, vol. 25, pp. 187-209, 2023.\\n[5] E. M. Pothos and J. R. Busemeyer, “Editorial: Predictive modeling of\\ncognition and behavior on quantum principles,” Frontiers in Psychology,\\nvol. 14, article 1154970, 2023.\\n\\n[6] D. Orrell, “Quantum propensity in economics,” Frontiers in Artificial\\n\\nIntelligence, vol. 4, article 772294, 2022.\\n\\x0c[7] E. M. Pothos and J. R. Busemeyer, “Quantum cognition,” Annual\\n\\nReview of Psychology, vol. 73, pp. 749-778, 2022.\\n\\n[8] H. Liu, X. Wang, and J. Li, “Research on quantum cognition in\\n\\nautonomous driving,” Scientific Reports, vol. 11, article 24822, 2021.\\n\\n[9] F. Bagarello, F. Oliveri, and S. Spagnolo, “A phenomenological operator\\ndescription of interactions between populations with applications to\\nmigration,” Mathematical Models and Methods in Applied Sciences, vol.\\n29, no. 8, pp. 1797-1826, 2019.\\n\\n[10] A. Khrennikov, “Quantum probability in decision making from quantum\\ninformation representation of neuronal states,” Scientific Reports, vol. 8,\\narticle 16225, 2018.\\n\\n[11] M. Asano, I. Basieva, A. Khrennikov, M. Ohya, and Y. Tanaka, “A\\nquantum-like model of selection behavior,” Journal of Mathematical\\nPsychology, vol. 78, pp. 2-12, 2017.\\n\\n[12] E. N. Dzhafarov, J. V. Kujala, and V. H. Larsson, “Contextuality in three\\ntypes of quantum-mechanical systems,” Foundations of Physics, vol. 47,\\nno. 1, pp. 93-104, 2017.\\n\\n[13] L. C. White, J. R. Busemeyer, and R. Riefer, “Quantum decision theory\\nin simple risky choices,” PLOS ONE, vol. 11, no. 12, e0168045, 2016.\\n[14] Z. Wang, T. Solloway, R. M. Shiffrin, and J. R. Busemeyer, “Context\\neffects produced by question orders reveal quantum entanglement in\\nhuman judgments,” Proceedings of the National Academy of Sciences,\\nvol. 111, no. 26, pp. 9431-9436, 2014.\\n\\n[15] D. Aerts and S. Sozzo, “Quantum entanglement in concept combina-\\ntions,” International Journal of Theoretical Physics, vol. 53, no. 10, pp.\\n3587-3603, 2014.\\n\\n[16] J. R. Busemeyer and P. D. Bruza, “Quantum Models of Cognition and\\n\\nDecision,” Cambridge University Press, 2012.\\n\\n[17] A. Tversky and D. Kahneman, “Extensional versus intuitive reasoning:\\nThe conjunction fallacy in probability judgment,” Psychological Review,\\nvol. 90, no. 4, pp. 293-315, 1983.\\n\\n[18] D. Kahneman and A. Tversky, “Prospect theory: An analysis of decision\\n\\nunder risk,” Econometrica, vol. 47, no. 2, pp. 263-291, 1979.\\n\\n[19] D. Ellsberg, “Risk, ambiguity, and the Savage axioms,” The Quarterly\\n\\nJournal of Economics, vol. 75, no. 4, pp. 643-669, 1961.\\n\\n[20] L. Festinger, “A Theory of Cognitive Dissonance,” Stanford University\\n\\nPress, 1957.\\n\\n[21] H. A. Simon, “A behavioral model of rational choice,” The Quarterly\\n\\nJournal of Economics, vol. 69, no. 1, pp. 99-118, 1955.\\n\\n[22] M. Allais, “Le comportement de l’homme rationnel devant le risque:\\ncritique des postulats et axiomes de l’´ecole Am´ericaine,” Econometrica,\\nvol. 21, no. 4, pp. 503-546, 1953.\\n\\n[23] J. von Neumann and O. Morgenstern, “Theory of Games and Economic\\n\\nBehavior,” Princeton University Press, 1947.')"
      ]
     },
     "execution_count": 15,
     "metadata": {},
     "output_type": "execute_result"
    }
   ],
   "source": [
    "docs=loader.load()\n",
    "docs[0]"
   ]
  },
  {
   "cell_type": "code",
   "execution_count": 16,
   "id": "95e4e84a-9b1f-4391-8686-638fedd5654a",
   "metadata": {},
   "outputs": [
    {
     "name": "stdout",
     "output_type": "stream",
     "text": [
      "{'producer': 'pdfTeX-1.40.26',\n",
      " 'creator': 'TeX',\n",
      " 'creationdate': '2025-07-08T04:57:13+00:00',\n",
      " 'moddate': '2025-07-08T04:57:13+00:00',\n",
      " 'ptex.fullbanner': 'This is pdfTeX, Version 3.141592653-2.6-1.40.26 (TeX Live '\n",
      "                    '2024) kpathsea version 6.4.0',\n",
      " 'trapped': 'False',\n",
      " 'total_pages': 12,\n",
      " 'source': 'C:/Users/Dell/OneDrive/Desktop/iMPORTANT/Quantum_Paper final.pdf'}\n"
     ]
    }
   ],
   "source": [
    "import pprint\n",
    "pprint.pp(docs[0].metadata)"
   ]
  },
  {
   "cell_type": "code",
   "execution_count": 17,
   "id": "a52beb0b-bdde-4877-b61f-150108c08312",
   "metadata": {},
   "outputs": [
    {
     "name": "stdout",
     "output_type": "stream",
     "text": [
      "12\n",
      "{'creationdate': '2025-07-08T04:57:13+00:00',\n",
      " 'creator': 'TeX',\n",
      " 'moddate': '2025-07-08T04:57:13+00:00',\n",
      " 'page': 0,\n",
      " 'producer': 'pdfTeX-1.40.26',\n",
      " 'ptex.fullbanner': 'This is pdfTeX, Version 3.141592653-2.6-1.40.26 (TeX Live '\n",
      "                    '2024) kpathsea version 6.4.0',\n",
      " 'source': 'C:/Users/Dell/OneDrive/Desktop/iMPORTANT/Quantum_Paper final.pdf',\n",
      " 'total_pages': 12,\n",
      " 'trapped': 'False'}\n"
     ]
    }
   ],
   "source": [
    "loader=PDFMinerLoader(\"C:/Users/Dell/OneDrive/Desktop/iMPORTANT/Quantum_Paper final.pdf\",mode=\"page\")\n",
    "docs=loader.load()\n",
    "print(len(docs))\n",
    "pprint.pprint(docs[0].metadata)"
   ]
  },
  {
   "cell_type": "code",
   "execution_count": 18,
   "id": "f03429bb-0ff4-48d1-8478-b021e1785276",
   "metadata": {},
   "outputs": [
    {
     "name": "stdout",
     "output_type": "stream",
     "text": [
      "number of document chunk 23\n",
      "Number of words 8753\n"
     ]
    }
   ],
   "source": [
    "#to count number of word in pdf\n",
    "split_doc=loader.load_and_split()\n",
    "print(\"number of document chunk\",len(split_doc))#number of document chunk\n",
    "total_word =sum(len(doc.page_content.split()) for doc in split_doc)#counting number of words in a document\n",
    "print(\"Number of words\",total_word) "
   ]
  },
  {
   "cell_type": "code",
   "execution_count": 19,
   "id": "49670591-d6ae-468c-b10a-667f7e8fbc98",
   "metadata": {},
   "outputs": [
    {
     "name": "stdout",
     "output_type": "stream",
     "text": [
      "Quantum Decision Theory: Applications in\n",
      "Behavioral and Management Economics\n",
      "\n",
      "1. Aryan Agarwal,2. Karunesh Kumar,3 Dr. Venugopal K\n",
      "1,2 :Department of Industrial Engineering and Management 3: Department of Mathematics\n",
      "R V College of Engineering\n",
      "Bengaluru, Karnataka , India\n",
      "\n",
      "Abstract—Quantum Decision Theory (QDT) offers a novel\n",
      "framework for understanding decision-making, drawing parallels\n",
      "from quantum mechanics to explain phenomena that classical de-\n",
      "cision models struggle to address. Unlike traditional approaches,\n",
      "which often rely on strict rationality and probabilistic reasoning,\n",
      "QDT incorporates concepts such as superposition, entanglement,\n",
      "and interference to model the inherent uncertainty, ambiguity,\n",
      "and contextual dependencies observed in human choices. This\n",
      "review focuses on the burgeoning applications of QDT within\n",
      "behavioral and management economics. We explore how QDT\n",
      "provides a more nuanced explanation for paradoxes like the Allais\n",
      "paradox and the Ellsberg paradox, which classical utility theory\n",
      "fails to fully capture. Key insights include QDT’s ability to model\n",
      "preference reversals, order effects, and the impact of cognitive\n",
      "biases through quantum-like interference effects. Furthermore,\n",
      "it offers new perspectives on strategic interactions in game\n",
      "theory and organizational decision-making under ambiguity.\n",
      "The contributions of QDT lie in its capacity to offer a more\n",
      "descriptively accurate and predictive account of human behavior\n",
      "in economic contexts, paving the way for enhanced theoretical\n",
      "models and practical interventions in areas such as marketing,\n",
      "finance, and human resource management.\n",
      "\n",
      "Index Terms—quantum decision theory, behavioral economics,\n",
      "\n",
      "decision-making, quantum cognition, management economics\n",
      "\n",
      "I. INTRODUCTION\n",
      "\n",
      "Decision-making lies at the heart of economic theory, aim-\n",
      "ing to understand and predict how individuals and organiza-\n",
      "tions make choices under various conditions. For decades, the\n",
      "dominant paradigm in economics has been rooted in classical\n",
      "decision theory, primarily epitomized by Expected Utility\n",
      "Theory (EUT). Developed by Von Neumann and Morgenstern\n",
      "[23], EUT posits that rational agents choose among risky\n",
      "alternatives by maximizing their expected utility, where prob-\n",
      "abilities are objectively known or subjectively assigned. This\n",
      "framework, with its elegant mathematical structure, provided\n",
      "a powerful\n",
      "tool for analyzing a wide range of economic\n",
      "phenomena, from consumer choice to financial markets.\n",
      "\n",
      "However, despite its theoretical elegance and widespread\n",
      "adoption, EUT, along with subsequent refinements, began to\n",
      "face increasing empirical challenges. Experimental evidence\n",
      "consistently demonstrated that human behavior often deviates\n",
      "systematically from the predictions of classical rationality.\n",
      "These anomalies, such as the Allais paradox [22] and the\n",
      "Ellsberg paradox [19], highlighted that individuals frequently\n",
      "violate the core axioms of EUT, exhibiting preferences that\n",
      "are inconsistent with expected utility maximization.\n",
      "\n",
      "In response to these limitations, the field of behavioral eco-\n",
      "nomics emerged as a significant counter-paradigm. Pioneered\n",
      "by scholars like Daniel Kahneman and Amos Tversky, behav-\n",
      "ioral economics integrates insights from psychology to offer\n",
      "more realistic models of human decision-making. Prospect\n",
      "Theory [18], arguably the most influential contribution from\n",
      "this field, provided a compelling alternative to EUT. Prospect\n",
      "Theory introduced concepts such as loss aversion, reference\n",
      "dependence, and probability weighting, successfully explain-\n",
      "ing many of the observed behavioral anomalies.\n",
      "\n",
      "While Prospect Theory significantly enhanced our under-\n",
      "standing of how people make decisions under risk and uncer-\n",
      "tainty, it is still a descriptive theory and, like EUT, can struggle\n",
      "to account for certain dynamic and contextual effects, such as\n",
      "the order in which information is presented or the interference\n",
      "effects observed in sequential decision tasks.\n",
      "\n",
      "Despite the advancements brought by behavioral economics\n",
      "and the recognition of bounded rationality – the idea that\n",
      "human decision-making is constrained by cognitive limitations\n",
      "[21] – a persistent challenge remains: how to mathematically\n",
      "model the inherent ambiguity, context-dependency, and dy-\n",
      "namic interactions that characterize real-world decision pro-\n",
      "cesses. Traditional probabilistic frameworks, based on classical\n",
      "logic and set theory, often struggle to capture phenomena like\n",
      "superposition of choices, entanglement of preferences, and\n",
      "interference effects between options, which are increasingly\n",
      "observed in behavioral experiments.\n",
      "\n",
      "This paper is motivated by the growing recognition that the\n",
      "mathematical formalism of quantum mechanics, originally de-\n",
      "veloped to describe the behavior of particles at the subatomic\n",
      "level, offers a surprisingly powerful and flexible framework for\n",
      "modeling human cognition and decision-making. Unlike clas-\n",
      "sical probability theory, quantum theory naturally incorporates\n",
      "concepts such as contextuality, superposition (the ability to be\n",
      "in multiple states simultaneously), and entanglement (inter-\n",
      "dependencies between states), which resonate with observed\n",
      "psychological phenomena. Quantum Decision Theory (QDT)\n",
      "is not about claiming that the brain is a quantum computer\n",
      "in a literal sense; rather, it proposes that the mathematical\n",
      "principles of quantum theory provide a more appropriate and\n",
      "parsimonious language for describing the non-classical aspects\n",
      "of human judgment and choice.\n",
      "----This The End---\n",
      "II. FOUNDATIONS OF QUANTUM DECISION THEORY\n",
      "\n",
      "Quantum Decision Theory (QDT) posits that the mathe-\n",
      "matical framework of quantum mechanics can offer a more\n",
      "nuanced and accurate description of human decision-making\n",
      "processes than classical probability theory. This is not\n",
      "to\n",
      "suggest that the brain operates as a quantum computer in a\n",
      "literal physical sense, but rather that certain cognitive phenom-\n",
      "ena exhibit characteristics analogous to quantum mechanical\n",
      "principles. Understanding these core principles is crucial for\n",
      "appreciating how QDT models diverge from classical ap-\n",
      "proaches.\n",
      "\n",
      "A. Superposition\n",
      "\n",
      "One of the most fundamental concepts in QDT is su-\n",
      "perposition. In quantum mechanics, a particle can exist in\n",
      "multiple states simultaneously until measured. Analogously,\n",
      "in decision-making, a decision-maker facing a choice among\n",
      "several options might be considered to be in a ”superposition\n",
      "of potential choices” or ”undecided state” before making a\n",
      "is not\n",
      "final commitment. This implies that\n",
      "committed to a single option until the act of making a decision\n",
      "(or ”measurement”) forces them into a definite state. This con-\n",
      "trasts sharply with classical models where a decision-maker\n",
      "is assumed to have pre-existing, well-defined preferences for\n",
      "each option at all times.\n",
      "\n",
      "the individual\n",
      "\n",
      "B. Interference\n",
      "\n",
      "Closely related to superposition is interference. In classical\n",
      "physics, waves can interfere constructively or destructively.\n",
      "In QDT, interference effects manifest as deviations from the\n",
      "”total probability rule” of classical probability theory. The\n",
      "law of total probability states that for two events A and B,\n",
      "the probability of A occurring is the sum of the probabil-\n",
      "ities of A occurring with B and A occurring without B,\n",
      "i.e., P (A) = P (A|B)P (B) + P (A|Bc)P (Bc). However, in\n",
      "quantum probability, an interference term emerges, leading to\n",
      "the quantum law of total probability [16]:\n",
      "\n",
      "P (A) = P (A|B)P (B) + P (A|Bc)P (Bc)\n",
      "\n",
      "+ 2(cid:112)P (A|B)P (B)P (A|Bc)P (Bc) cos(θ)\n",
      "\n",
      "(1)\n",
      "\n",
      "where θ is an interference angle that accounts for the\n",
      "influence of unobservable factors or the cognitive state of the\n",
      "decision-maker. This interference term allows QDT to explain\n",
      "violations of classical probability, such as the conjunction\n",
      "fallacy [17] or order effects in survey questions, where the\n",
      "probability of choosing an option can change depending on\n",
      "the context or the order in which options are presented.\n",
      "\n",
      "C. Contextuality\n",
      "\n",
      "Contextuality is another cornerstone. In quantum mechanics,\n",
      "the outcome of a measurement on a quantum system can\n",
      "depend on the context of other measurements being performed.\n",
      "Similarly, in QDT, the preference for an option is not absolute\n",
      "but\n",
      "in which the\n",
      "decision is made. This context can include the other available\n",
      "\n",
      "is profoundly influenced by the context\n",
      "\n",
      "alternatives, the framing of the problem, the emotional state of\n",
      "the decision-maker, or even the historical sequence of previ-\n",
      "ous decisions. This explains why preferences might appear\n",
      "inconsistent across different decision scenarios, a common\n",
      "observation in behavioral economics that challenges the stable\n",
      "preference assumptions of classical utility theory.\n",
      "\n",
      "D. Entanglement\n",
      "\n",
      "Entanglement describes a strong correlation between quan-\n",
      "tum systems, where the state of on\n"
     ]
    }
   ],
   "source": [
    "#Add a custom pages_delimiter to identify where are ends of pages in single mode\n",
    "loader=PDFMinerLoader(\"C:/Users/Dell/OneDrive/Desktop/iMPORTANT/Quantum_Paper final.pdf\",mode='single',pages_delimiter=\"\\n----This The End---\\n\")\n",
    "docs=loader.load()\n",
    "print(docs[0].page_content[:8753])"
   ]
  },
  {
   "cell_type": "code",
   "execution_count": 20,
   "id": "718470ad-01a7-4f47-9a63-a5494b89d19a",
   "metadata": {
    "jupyter": {
     "source_hidden": true
    }
   },
   "outputs": [],
   "source": [
    "#!pip install -qU langchain-text-splitters"
   ]
  },
  {
   "cell_type": "code",
   "execution_count": 21,
   "id": "5533761c-14c6-4a68-97b7-8bb87679698e",
   "metadata": {},
   "outputs": [],
   "source": [
    "from langchain_text_splitters import RecursiveCharacterTextSplitter\n",
    "text_splitter = RecursiveCharacterTextSplitter(chunk_size=100,chunk_overlap=20,length_function=len,is_separator_regex=False)\n",
    "text_split=text_splitter.split_documents(docs)"
   ]
  },
  {
   "cell_type": "code",
   "execution_count": null,
   "id": "983ef13d-eb3e-4526-b87c-61b1d6649a3b",
   "metadata": {},
   "outputs": [],
   "source": [
    "\n"
   ]
  },
  {
   "cell_type": "code",
   "execution_count": 22,
   "id": "c616d3cb-15ad-415a-a3f4-e892fbc660b1",
   "metadata": {},
   "outputs": [],
   "source": [
    "#vector data base\n",
    "from langchain_community.vectorstores import FAISS \n",
    "vectorstore= FAISS.from_documents(text_split,embeddings)\n",
    "retriever = vectorstore.as_retriever()"
   ]
  },
  {
   "cell_type": "code",
   "execution_count": 23,
   "id": "6cdebedf-2aba-4cb1-9057-ea241a662043",
   "metadata": {},
   "outputs": [],
   "source": [
    "#RETRIEVAL Generation \n",
    "from langchain import hub\n",
    "prompt=hub.pull(\"rlm/rag-prompt\")\n",
    "\n"
   ]
  },
  {
   "cell_type": "code",
   "execution_count": null,
   "id": "a95bed77-be28-4b79-845d-2a8f16696afb",
   "metadata": {},
   "outputs": [],
   "source": []
  },
  {
   "cell_type": "code",
   "execution_count": 24,
   "id": "ded89730-981b-484b-817d-5d4588cdb022",
   "metadata": {},
   "outputs": [],
   "source": [
    "#setup the chain using llm,prompt,retriever\n",
    "from langchain.chains import RetrievalQA\n",
    "from langchain.chains.qa_with_sources import load_qa_with_sources_chain\n",
    "from langchain_groq import ChatGroq\n",
    "llm = ChatGroq(\n",
    "    model=\"llama3-8b-8192\",\n",
    "    temperature=0.7,\n",
    ")\n",
    "\n",
    "#RAG CHAIN\n",
    "rag_chain=RetrievalQA.from_chain_type(llm=llm,retriever=retriever,chain_type='stuff',chain_type_kwargs={'prompt':prompt})\n"
   ]
  },
  {
   "cell_type": "code",
   "execution_count": null,
   "id": "d14bee25-b55a-40aa-b48c-6cb4b12cf5bb",
   "metadata": {},
   "outputs": [
    {
     "name": "stdin",
     "output_type": "stream",
     "text": [
      "Enter your query:  explain qdt for economics\n"
     ]
    },
    {
     "name": "stderr",
     "output_type": "stream",
     "text": [
      "C:\\Users\\Dell\\AppData\\Local\\Temp\\ipykernel_13408\\3544875308.py:4: LangChainDeprecationWarning: The method `Chain.run` was deprecated in langchain 0.1.0 and will be removed in 1.0. Use :meth:`~invoke` instead.\n",
      "  output = rag_chain.run(accepted_prompt)  # matches spelling\n"
     ]
    },
    {
     "name": "stdout",
     "output_type": "stream",
     "text": [
      "The answer of query is: QDT (Quantitative Decision Theory) is a path towards more accurate, insightful, and useful models of economic decision-making, offering a valuable candidate for broader applications in economics. Its explanatory power makes it a valuable tool, but its primary limitation lies in its limitations.\n"
     ]
    },
    {
     "name": "stderr",
     "output_type": "stream",
     "text": [
      "Failed to multipart ingest runs: langsmith.utils.LangSmithError: Failed to POST https://api.smith.langchain.com/runs/multipart in LangSmith API. HTTPError('403 Client Error: Forbidden for url: https://api.smith.langchain.com/runs/multipart', '{\"error\":\"Forbidden\"}\\n')\n",
      "Failed to send compressed multipart ingest: langsmith.utils.LangSmithError: Failed to POST https://api.smith.langchain.com/runs/multipart in LangSmith API. HTTPError('403 Client Error: Forbidden for url: https://api.smith.langchain.com/runs/multipart', '{\"error\":\"Forbidden\"}\\n')\n"
     ]
    }
   ],
   "source": [
    "while True:\n",
    "    enter_prompt = input(\"Enter your query: \")\n",
    "    accepted_prompt = enter_prompt.lower()  # fixed spelling\n",
    "    output = rag_chain.run(accepted_prompt)  # matches spelling\n",
    "    print(\"The answer of query is:\", output)\n"
   ]
  },
  {
   "cell_type": "code",
   "execution_count": null,
   "id": "351b738a-b9e3-4e4d-8086-e2941bc80844",
   "metadata": {},
   "outputs": [],
   "source": []
  }
 ],
 "metadata": {
  "kernelspec": {
   "display_name": "Python 3 (ipykernel)",
   "language": "python",
   "name": "python3"
  },
  "language_info": {
   "codemirror_mode": {
    "name": "ipython",
    "version": 3
   },
   "file_extension": ".py",
   "mimetype": "text/x-python",
   "name": "python",
   "nbconvert_exporter": "python",
   "pygments_lexer": "ipython3",
   "version": "3.11.4"
  }
 },
 "nbformat": 4,
 "nbformat_minor": 5
}
